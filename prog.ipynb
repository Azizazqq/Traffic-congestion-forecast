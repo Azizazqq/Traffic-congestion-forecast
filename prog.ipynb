import customtkinter as ctk
import requests
import datetime
import pandas as pd
from sklearn.model_selection import train_test_split
from sklearn.linear_model import LinearRegression
import statsmodels.api as sm

def get_weather_info(url):
    response = requests.get(url)
    data = response.json()
    if response.status_code == 200:
        temperature = data['main']['temp']
        wind_speed = data['wind']['speed']
        snow = data.get('snow', None)
        if snow:
            snow_depth = snow.get('1h', 0)
        else:
            snow_depth = 0

        rain = data.get('rain', None)
        if rain:
            rain_volume = rain.get('1h', 0)
        else:
            rain_volume = 0

        return temperature, wind_speed, snow_depth, rain_volume
    else:
        print("error")
        return None, None, None, None




def getHour():
    
    now = datetime.datetime.now()
    hour = now.hour

    return hour


def weekDay():
    
    now = datetime.datetime.now()
    week_day = now.weekday() + 1 

    return week_day
    
def fwd(street, day):
    
    if (day == 1 or day == 2 or day == 3 or day == 4 or day == 5):
    
        df = pd.read_excel(street)
        filtered_df = df[df['week_day'].isin([1,2,3,4,5])]
        filtered_df.to_excel('jams.xlsx', index=False)
    
    else:
        
        df = pd.read_excel(street)
        filtered_df = df[df['week_day'].isin([6,7])]
        filtered_df.to_excel('jams.xlsx', index=False)
    

def fh(hour):
    
    #MF
    
    if ( 6 <= hour < 9):
    
        df = pd.read_excel('jams.xlsx')

        filtered_df = df[df['hour'].isin([6,7,8])]

        filtered_df.to_excel('jams.xlsx', index=False)
        
    #MS
    
    elif ( 9 <= hour < 11):
    
        df = pd.read_excel('jams.xlsx')

        filtered_df = df[df['hour'].isin([9,10])]

        filtered_df.to_excel('jams.xlsx', index=False)
      
    #DF
    
    elif (11 <= hour < 14):
        
        df = pd.read_excel('jams.xlsx')

        filtered_df = df[df['hour'].isin([11,12,13])]

        filtered_df.to_excel('jams.xlsx', index=False)
    
    #DS
    
    
    elif (14 <= hour < 17):
        
        df = pd.read_excel('jams.xlsx')

        filtered_df = df[df['hour'].isin([14,15,16])]

        filtered_df.to_excel('jams.xlsx', index=False)
    
    #EF
    
    
    elif (17 <= hour < 19):
        
        df = pd.read_excel('jams.xlsx')

        filtered_df = df[df['hour'].isin([17,18,19])]

        filtered_df.to_excel('jams.xlsx', index=False)
    
    
    #ES
    
    
    elif (19 <= hour <= 23):
        
        df = pd.read_excel('jams.xlsx')

        filtered_df = df[df['hour'].isin([19,20,21,22,23])]

        filtered_df.to_excel('jams.xlsx', index=False)
    
    #N
    
    else:
        
        df = pd.read_excel('jams.xlsx')

        filtered_df = df[df['hour'].isin([0,1,2,3,4,5])]

        filtered_df.to_excel('jams.xlsx', index=False)


def reg(param1, param2, param3, param4, param5, param6, param7, parameter):
    
    if __name__ == "__main__":
        url = "http://api.openweathermap.org/data/2.5/weather?q=Riga&appid=247890b3c3e71971ffda3f84067d6f35&units=metric"
        temperature, wind_speed, snow_depth, rain_volume = get_weather_info(url)

        if temperature is not None:
            #print(f"temp: {temperature} °C")
            temp = temperature
        if wind_speed is not None:
            #print(f"wind: {wind_speed} m/s")
            wind = wind_speed
        if snow_depth is not None:
            #print(f"snow: {snow_depth} cm")
            snow = snow_depth
        if rain_volume is not None:
            #print(f"rain: {rain_volume} mm")
            rain = rain_volume
    
    hour = getHour()
    week_day = weekDay()
    
    skolenu_holidays = param6 
    accidents = param5
    citi_holidays = param2
    red_before = param3
    red_after = param4
    red_holidays = param1
    notikumi = param7
    
    data = pd.read_excel('jams.xlsx')

    if (parameter == 'Garums'):
    
        y = data['length']
    
    elif (parameter == 'Ātrums'):
    
        y = data['speed']
        
    elif (parameter == 'Aizkavējums'):
    
        y = data['delay']
        
        
    
    X = data[['hour', 'wind', 'temp', 'rain', 'skolenu_holidays', 'accidents', 'citi_holidays', 'week_day', 'red_before', 'red_after', 'red_holidays', 'notikumi']]

    X_train, X_test, y_train, y_test = train_test_split(X, y, test_size=0.3, random_state=42)

    X_train_const = sm.add_constant(X_train)
    X_test_const = sm.add_constant(X_test)

    model = sm.OLS(y_train, X_train_const).fit()

    p_values = model.pvalues
    #print("P-values of the coefficients:")
    #print(p_values)

    significant_vars = p_values[p_values < 0.1].index.tolist()

    if 'const' in significant_vars:
        significant_vars.remove('const')

    #print("\nSignificant variables with p-value < 0.1:")
    #print(significant_vars)

    if significant_vars:
        X_train_significant = X_train[significant_vars]
        X_test_significant = X_test[significant_vars]

        model_significant = LinearRegression()
        model_significant.fit(X_train_significant, y_train)

        r2_score = model_significant.score(X_test_significant, y_test)
        print("\nR-squared of the model with significant variables:", r2_score)

        intercept_significant = model_significant.intercept_
        coefficients_significant = model_significant.coef_

        #print("\nIntercept:", intercept_significant)
        #print("Regression Coefficients:")
        for name, coef in zip(significant_vars, coefficients_significant):
            #print(f"{name}: {coef}")

            prediction_values = {
                'hour': hour,
                'wind': wind,
                #'snow': snow,
                'temp': temp,
                'rain': rain,
                'skolenu_holidays': skolenu_holidays,
                'accidents': accidents,
                'citi_holidays': citi_holidays,
                'week_day': week_day,
                'red_before': red_before,
                'red_after': red_after,
                'red_holidays': red_holidays,
                'notikumi': notikumi
            }

        predicted_speed = intercept_significant
        for var in significant_vars:
            predicted_speed += coefficients_significant[significant_vars.index(var)] * prediction_values[var]

    return predicted_speed
            
        #print("\nPredicted speed with significant variables:", predicted_speed)
    #else:
        #print("No significant variables found with p-value < 0.1.")






def do_option_1(param1, param2, param3, param4, param5, param6, param7, parameter):

    day = weekDay()
    hour = getHour()

    
    fwd('jams496.xlsx', day)
    
    fh(hour)
    
    regw = reg(param1, param2, param3, param4, param5, param6, param7, parameter)

    
    
    return regw

def do_option_2(param1, param2, param3, param4, param5, param6, param7, parameter):

    day = weekDay()
    hour = getHour()

    
    fwd('jams498.xlsx', day)
    
    fh(hour)
    
    regw = reg(param1, param2, param3, param4, param5, param6, param7, parameter)

    
    
    return regw

def do_option_3(param1, param2, param3, param4, param5, param6, param7, parameter):

    day = weekDay()
    hour = getHour()

    
    fwd('jams495.xlsx', day)
    
    fh(hour)
    
    regw = reg(param1, param2, param3, param4, param5, param6, param7, parameter)

    
    
    return regw

def do_option_4(param1, param2, param3, param4, param5, param6, param7, parameter):

    day = weekDay()
    hour = getHour()

    
    fwd('jams500.xlsx', day)
    
    fh(hour)
    
    regw = reg(param1, param2, param3, param4, param5, param6, param7, parameter)

    
    
    return regw

def do_option_5(param1, param2, param3, param4, param5, param6, param7, parameter):

    day = weekDay()
    hour = getHour()

    
    fwd('jams499.xlsx', day)
    
    fh(hour)
    
    regw = reg(param1, param2, param3, param4, param5, param6, param7, parameter)

    
    
    return regw


def show_second_menu(option, option2):
    main_menu.pack_forget()
    second_menu.pack(expand=True, fill='both')
    global selected_option
    selected_option = option
    global  parameter
    parameter = option2
    

def on_final_button_click():
    param1 = int(param_var1.get())
    param2 = int(param_var2.get())
    param3 = int(param_var3.get())
    param4 = int(param_var4.get())
    param5 = int(param_var5.get())
    param6 = int(param_var6.get())
    param7 = int(param_var7.get())

    if selected_option == 'Katlakalna iela':
        result = do_option_1(param1, param2, param3, param4, param5, param6, param7, parameter)
    elif selected_option == 'Hanzas iela':
        result = do_option_2(param1, param2, param3, param4, param5, param6, param7, parameter)
    elif selected_option == 'Ēveles iela':
        result = do_option_3(param1, param2, param3, param4, param5, param6, param7, parameter)
    elif selected_option == 'Stirnu iela':
        result = do_option_4(param1, param2, param3, param4, param5, param6, param7, parameter)
    elif selected_option == 'UpĪša iela':
        result = do_option_5(param1, param2, param3, param4, param5, param6, param7, parameter)

    result_label.configure(text=f"Rezultāts: {result}")

def go_back_to_main_menu():
    second_menu.pack_forget()
    main_menu.pack(expand=True, fill='both')

root = ctk.CTk()
root.title(" ")
root.geometry('600x600')
root.configure(bg='black')

main_menu = ctk.CTkFrame(root, fg_color='darkgray', width=400, height=400, corner_radius=10)
main_menu.pack_propagate(0)
main_menu.place(relx=0.5, rely=0.5, anchor='center')

par = ctk.StringVar(value='Garums')

main_choice_var = ctk.StringVar(value='Katlakalna iela')


main_choice_label = ctk.CTkLabel(main_menu, text="Sastrēguma objekts:")
main_choice_label.pack(pady=10)

main_choice_menu = ctk.CTkComboBox(main_menu, variable=main_choice_var, values=['Katlakalna', 'Hanzas', 'Ēveles', "Stirnu", "Upīša"], fg_color='blue', corner_radius=10)
main_choice_menu.pack(pady=10)


par = ctk.CTkLabel(main_menu, text="Parametrs:")
par.pack(pady=10)

par = ctk.CTkComboBox(main_menu, variable=par, values=['Garums', 'Ātrums', 'Aizkavējums'], fg_color='blue', corner_radius=10)
par.pack(pady=10)


main_button = ctk.CTkButton(main_menu, text="Turpināt", command=lambda: show_second_menu(main_choice_var.get(), par.get()), fg_color='blue', corner_radius=10)
main_button.pack(pady=20)


second_menu = ctk.CTkFrame(root, fg_color='darkgray', corner_radius=10)
second_menu.pack_propagate(0)

param_var1 = ctk.StringVar(value='0')
param_var2 = ctk.StringVar(value='0')
param_var3 = ctk.StringVar(value='0')
param_var4 = ctk.StringVar(value='0')
param_var5 = ctk.StringVar(value='0')
param_var6 = ctk.StringVar(value='0')
param_var7 = ctk.StringVar(value='0')


param_label1 = ctk.CTkLabel(second_menu, text="Oficiālie svētki:")
param_label1.pack(pady=2)
param_menu1 = ctk.CTkComboBox(second_menu, variable=param_var1, values=['1', '0'], fg_color='blue', corner_radius=10)
param_menu1.pack(pady=2)

param_label2 = ctk.CTkLabel(second_menu, text="Neoficiālie svētki:")
param_label2.pack(pady=2)
param_menu2 = ctk.CTkComboBox(second_menu, variable=param_var2, values=['0', '1'], fg_color='blue', corner_radius=10)
param_menu2.pack(pady=2)

param_label3 = ctk.CTkLabel(second_menu, text="Diena pirms oficiālajiem svētkiem:")
param_label3.pack(pady=2)
param_menu3 = ctk.CTkComboBox(second_menu, variable=param_var3, values=['0', '1'], fg_color='blue', corner_radius=10)
param_menu3.pack(pady=2)

param_label4 = ctk.CTkLabel(second_menu, text="Diena pēc oficiālajiem svētkiem:")
param_label4.pack(pady=2)
param_menu4 = ctk.CTkComboBox(second_menu, variable=param_var4, values=['0', '1'], fg_color='blue', corner_radius=10)
param_menu4.pack(pady=2)

param_label5 = ctk.CTkLabel(second_menu, text="Ceļu satiksmes negadījums:")
param_label5.pack(pady=2)
param_menu5 = ctk.CTkComboBox(second_menu, variable=param_var5, values=['0', '1'], fg_color='blue', corner_radius=10)
param_menu5.pack(pady=2)

param_label6 = ctk.CTkLabel(second_menu, text="Skolēnu brīvlaiks:")
param_label6.pack(pady=2)
param_menu6 = ctk.CTkComboBox(second_menu, variable=param_var6, values=['0', '1'], fg_color='blue', corner_radius=10)
param_menu6.pack(pady=2)

param_label7 = ctk.CTkLabel(second_menu, text="Notikumi:")
param_label7.pack(pady=2)
param_menu7 = ctk.CTkComboBox(second_menu, variable=param_var7, values=['0', '1'], fg_color='blue', corner_radius=10)
param_menu7.pack(pady=2)

final_button = ctk.CTkButton(second_menu, text="Iesniegt", command=on_final_button_click, fg_color='blue', corner_radius=10)
final_button.pack(pady=20)

back_button = ctk.CTkButton(second_menu, text="Atpakaļ", command=go_back_to_main_menu, fg_color='blue', corner_radius=10)
back_button.pack(pady=10)

result_label = ctk.CTkLabel(second_menu, text="")
result_label.pack(pady=10)

main_menu.pack(expand=True, fill='both')
root.mainloop()
